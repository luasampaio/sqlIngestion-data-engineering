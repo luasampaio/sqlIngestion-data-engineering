{
 "cells": [
  {
   "cell_type": "code",
   "execution_count": 2,
   "metadata": {},
   "outputs": [],
   "source": [
    "import pandas as pd\n",
    "from sqlalchemy import create_engine"
   ]
  },
  {
   "cell_type": "code",
   "execution_count": 3,
   "metadata": {
    "vscode": {
     "languageId": "ruby"
    }
   },
   "outputs": [],
   "source": [
    "# Configuração do servidor e banco de dados\n",
    "server = \"SAMPAIO\"\n",
    "database = \"DESENVOLVIMENTO\"\n",
    "\n",
    "# Criando a engine de conexão com Windows Authentication\n",
    "engine = create_engine(\n",
    "    f\"mssql+pyodbc://@{server}/{database}?trusted_connection=yes&driver=ODBC+Driver+17+for+SQL+Server\".replace(\" \", \"+\")\n",
    ")"
   ]
  },
  {
   "cell_type": "code",
   "execution_count": 4,
   "metadata": {
    "vscode": {
     "languageId": "ruby"
    }
   },
   "outputs": [],
   "source": [
    "# Definir a consulta SQL\n",
    "query = \"SELECT * FROM [Desenvolvimento].[dbo].[Clientes]\""
   ]
  },
  {
   "cell_type": "code",
   "execution_count": 5,
   "metadata": {
    "vscode": {
     "languageId": "ruby"
    }
   },
   "outputs": [],
   "source": [
    "# Carregar os dados diretamente para um DataFrame Pandas\n",
    "df = pd.read_sql(query, engine)"
   ]
  },
  {
   "cell_type": "code",
   "execution_count": 6,
   "metadata": {
    "vscode": {
     "languageId": "ruby"
    }
   },
   "outputs": [
    {
     "name": "stdout",
     "output_type": "stream",
     "text": [
      "  id           created_at first_name last_name                email  \\\n",
      "0  0  2017-11-01 14:45:41      Marta     Jesus                        \n",
      "1  1  2017-10-16 00:50:39      Luana   Almeida                        \n",
      "2  2  2018-06-16 17:51:29      Frida    Mendes  frida@meu_email.com   \n",
      "3  3  2018-01-17 03:02:58    Daniela   Avelino  daniela@exemplo.com   \n",
      "4  4  2018-08-06 07:24:16   RomÃ¡rio  Teixeira                        \n",
      "\n",
      "    cell_phone country              state  \\\n",
      "0  9 9102-7834  Brasil               Acre   \n",
      "1  9 7328-8718  Brasil  Rio Grande do Sul   \n",
      "2  9 5906-7552  Brasil         SÃ£o Paulo   \n",
      "3  9 4642-9486  Brasil        Mato Grosso   \n",
      "4  9 3093-6522  Brasil              Bahia   \n",
      "\n",
      "                                   street number  additionals  \n",
      "0                                                 Conjunto 16  \n",
      "1  Avenida 56 do Estado Rio Grande do Sul  989.0  Conjunto 17  \n",
      "2         Avenida 59 do Estado SÃ£o Paulo  534.0               \n",
      "3                                                              \n",
      "4               PraÃ§a 56 do Estado Bahia  191.0      Apto 12  \n"
     ]
    }
   ],
   "source": [
    "# Exibir os primeiros registros\n",
    "print(df.head())"
   ]
  },
  {
   "cell_type": "code",
   "execution_count": 7,
   "metadata": {
    "vscode": {
     "languageId": "ruby"
    }
   },
   "outputs": [
    {
     "data": {
      "text/html": [
       "<div>\n",
       "<style scoped>\n",
       "    .dataframe tbody tr th:only-of-type {\n",
       "        vertical-align: middle;\n",
       "    }\n",
       "\n",
       "    .dataframe tbody tr th {\n",
       "        vertical-align: top;\n",
       "    }\n",
       "\n",
       "    .dataframe thead th {\n",
       "        text-align: right;\n",
       "    }\n",
       "</style>\n",
       "<table border=\"1\" class=\"dataframe\">\n",
       "  <thead>\n",
       "    <tr style=\"text-align: right;\">\n",
       "      <th></th>\n",
       "      <th>id</th>\n",
       "      <th>created_at</th>\n",
       "      <th>first_name</th>\n",
       "      <th>last_name</th>\n",
       "      <th>email</th>\n",
       "      <th>cell_phone</th>\n",
       "      <th>country</th>\n",
       "      <th>state</th>\n",
       "      <th>street</th>\n",
       "      <th>number</th>\n",
       "      <th>additionals</th>\n",
       "    </tr>\n",
       "  </thead>\n",
       "  <tbody>\n",
       "    <tr>\n",
       "      <th>0</th>\n",
       "      <td>0</td>\n",
       "      <td>2017-11-01 14:45:41</td>\n",
       "      <td>Marta</td>\n",
       "      <td>Jesus</td>\n",
       "      <td></td>\n",
       "      <td>9 9102-7834</td>\n",
       "      <td>Brasil</td>\n",
       "      <td>Acre</td>\n",
       "      <td></td>\n",
       "      <td></td>\n",
       "      <td>Conjunto 16</td>\n",
       "    </tr>\n",
       "    <tr>\n",
       "      <th>1</th>\n",
       "      <td>1</td>\n",
       "      <td>2017-10-16 00:50:39</td>\n",
       "      <td>Luana</td>\n",
       "      <td>Almeida</td>\n",
       "      <td></td>\n",
       "      <td>9 7328-8718</td>\n",
       "      <td>Brasil</td>\n",
       "      <td>Rio Grande do Sul</td>\n",
       "      <td>Avenida 56 do Estado Rio Grande do Sul</td>\n",
       "      <td>989.0</td>\n",
       "      <td>Conjunto 17</td>\n",
       "    </tr>\n",
       "    <tr>\n",
       "      <th>2</th>\n",
       "      <td>2</td>\n",
       "      <td>2018-06-16 17:51:29</td>\n",
       "      <td>Frida</td>\n",
       "      <td>Mendes</td>\n",
       "      <td>frida@meu_email.com</td>\n",
       "      <td>9 5906-7552</td>\n",
       "      <td>Brasil</td>\n",
       "      <td>SÃ£o Paulo</td>\n",
       "      <td>Avenida 59 do Estado SÃ£o Paulo</td>\n",
       "      <td>534.0</td>\n",
       "      <td></td>\n",
       "    </tr>\n",
       "    <tr>\n",
       "      <th>3</th>\n",
       "      <td>3</td>\n",
       "      <td>2018-01-17 03:02:58</td>\n",
       "      <td>Daniela</td>\n",
       "      <td>Avelino</td>\n",
       "      <td>daniela@exemplo.com</td>\n",
       "      <td>9 4642-9486</td>\n",
       "      <td>Brasil</td>\n",
       "      <td>Mato Grosso</td>\n",
       "      <td></td>\n",
       "      <td></td>\n",
       "      <td></td>\n",
       "    </tr>\n",
       "    <tr>\n",
       "      <th>4</th>\n",
       "      <td>4</td>\n",
       "      <td>2018-08-06 07:24:16</td>\n",
       "      <td>RomÃ¡rio</td>\n",
       "      <td>Teixeira</td>\n",
       "      <td></td>\n",
       "      <td>9 3093-6522</td>\n",
       "      <td>Brasil</td>\n",
       "      <td>Bahia</td>\n",
       "      <td>PraÃ§a 56 do Estado Bahia</td>\n",
       "      <td>191.0</td>\n",
       "      <td>Apto 12</td>\n",
       "    </tr>\n",
       "    <tr>\n",
       "      <th>5</th>\n",
       "      <td>5</td>\n",
       "      <td>2018-01-05 17:20:49</td>\n",
       "      <td>Marcelo</td>\n",
       "      <td>Barroso</td>\n",
       "      <td></td>\n",
       "      <td>9 2830-2088</td>\n",
       "      <td>Brasil</td>\n",
       "      <td>Rio Grande do Sul</td>\n",
       "      <td>Rua 28 do Estado Rio Grande do Sul</td>\n",
       "      <td>805.0</td>\n",
       "      <td>Conjunto 13</td>\n",
       "    </tr>\n",
       "    <tr>\n",
       "      <th>6</th>\n",
       "      <td>6</td>\n",
       "      <td>2018-06-18 11:17:42</td>\n",
       "      <td>Cristiano</td>\n",
       "      <td>ElÃ­sio</td>\n",
       "      <td>cristiano@exemplo.com</td>\n",
       "      <td>9 3532-8404</td>\n",
       "      <td>Brasil</td>\n",
       "      <td>GoiÃ¡s</td>\n",
       "      <td>Rua 78 do Estado GoiÃ¡s</td>\n",
       "      <td>877.0</td>\n",
       "      <td>Apto 14</td>\n",
       "    </tr>\n",
       "    <tr>\n",
       "      <th>7</th>\n",
       "      <td>7</td>\n",
       "      <td>2018-02-08 12:36:09</td>\n",
       "      <td>Everton</td>\n",
       "      <td>Barbosa</td>\n",
       "      <td>everton@meu_email.com</td>\n",
       "      <td>9 2553-4087</td>\n",
       "      <td>Brasil</td>\n",
       "      <td>Distrito Federal</td>\n",
       "      <td>Avenida 86 do Estado Distrito Federal</td>\n",
       "      <td>864.0</td>\n",
       "      <td>Apto 14</td>\n",
       "    </tr>\n",
       "    <tr>\n",
       "      <th>8</th>\n",
       "      <td>8</td>\n",
       "      <td>2017-12-16 20:47:03</td>\n",
       "      <td>Gabriela</td>\n",
       "      <td>Alves</td>\n",
       "      <td>gabriela@exemplo.com</td>\n",
       "      <td>9 1353-8433</td>\n",
       "      <td>Brasil</td>\n",
       "      <td>Santa Catarina</td>\n",
       "      <td></td>\n",
       "      <td></td>\n",
       "      <td></td>\n",
       "    </tr>\n",
       "    <tr>\n",
       "      <th>9</th>\n",
       "      <td>9</td>\n",
       "      <td>2018-11-11 11:48:41</td>\n",
       "      <td>Luan</td>\n",
       "      <td>Dias</td>\n",
       "      <td>luan@exemplo.com</td>\n",
       "      <td>9 2417-3678</td>\n",
       "      <td>Brasil</td>\n",
       "      <td>Distrito Federal</td>\n",
       "      <td>Avenida 54 do Estado Distrito Federal</td>\n",
       "      <td>889.0</td>\n",
       "      <td>Conjunto 14</td>\n",
       "    </tr>\n",
       "  </tbody>\n",
       "</table>\n",
       "</div>"
      ],
      "text/plain": [
       "  id           created_at first_name last_name                  email  \\\n",
       "0  0  2017-11-01 14:45:41      Marta     Jesus                          \n",
       "1  1  2017-10-16 00:50:39      Luana   Almeida                          \n",
       "2  2  2018-06-16 17:51:29      Frida    Mendes    frida@meu_email.com   \n",
       "3  3  2018-01-17 03:02:58    Daniela   Avelino    daniela@exemplo.com   \n",
       "4  4  2018-08-06 07:24:16   RomÃ¡rio  Teixeira                          \n",
       "5  5  2018-01-05 17:20:49    Marcelo   Barroso                          \n",
       "6  6  2018-06-18 11:17:42  Cristiano   ElÃ­sio  cristiano@exemplo.com   \n",
       "7  7  2018-02-08 12:36:09    Everton   Barbosa  everton@meu_email.com   \n",
       "8  8  2017-12-16 20:47:03   Gabriela     Alves   gabriela@exemplo.com   \n",
       "9  9  2018-11-11 11:48:41       Luan      Dias       luan@exemplo.com   \n",
       "\n",
       "    cell_phone country              state  \\\n",
       "0  9 9102-7834  Brasil               Acre   \n",
       "1  9 7328-8718  Brasil  Rio Grande do Sul   \n",
       "2  9 5906-7552  Brasil         SÃ£o Paulo   \n",
       "3  9 4642-9486  Brasil        Mato Grosso   \n",
       "4  9 3093-6522  Brasil              Bahia   \n",
       "5  9 2830-2088  Brasil  Rio Grande do Sul   \n",
       "6  9 3532-8404  Brasil             GoiÃ¡s   \n",
       "7  9 2553-4087  Brasil   Distrito Federal   \n",
       "8  9 1353-8433  Brasil     Santa Catarina   \n",
       "9  9 2417-3678  Brasil   Distrito Federal   \n",
       "\n",
       "                                   street number  additionals  \n",
       "0                                                 Conjunto 16  \n",
       "1  Avenida 56 do Estado Rio Grande do Sul  989.0  Conjunto 17  \n",
       "2         Avenida 59 do Estado SÃ£o Paulo  534.0               \n",
       "3                                                              \n",
       "4               PraÃ§a 56 do Estado Bahia  191.0      Apto 12  \n",
       "5      Rua 28 do Estado Rio Grande do Sul  805.0  Conjunto 13  \n",
       "6                 Rua 78 do Estado GoiÃ¡s  877.0      Apto 14  \n",
       "7   Avenida 86 do Estado Distrito Federal  864.0      Apto 14  \n",
       "8                                                              \n",
       "9   Avenida 54 do Estado Distrito Federal  889.0  Conjunto 14  "
      ]
     },
     "execution_count": 7,
     "metadata": {},
     "output_type": "execute_result"
    }
   ],
   "source": [
    "df.head(10)"
   ]
  },
  {
   "cell_type": "code",
   "execution_count": 8,
   "metadata": {
    "vscode": {
     "languageId": "ruby"
    }
   },
   "outputs": [
    {
     "data": {
      "text/plain": [
       "id             100\n",
       "created_at     100\n",
       "first_name     100\n",
       "last_name      100\n",
       "email          100\n",
       "cell_phone     100\n",
       "country        100\n",
       "state          100\n",
       "street         100\n",
       "number         100\n",
       "additionals    100\n",
       "dtype: int64"
      ]
     },
     "execution_count": 8,
     "metadata": {},
     "output_type": "execute_result"
    }
   ],
   "source": [
    "df.count()"
   ]
  },
  {
   "cell_type": "code",
   "execution_count": 9,
   "metadata": {
    "vscode": {
     "languageId": "ruby"
    }
   },
   "outputs": [
    {
     "data": {
      "text/html": [
       "<div>\n",
       "<style scoped>\n",
       "    .dataframe tbody tr th:only-of-type {\n",
       "        vertical-align: middle;\n",
       "    }\n",
       "\n",
       "    .dataframe tbody tr th {\n",
       "        vertical-align: top;\n",
       "    }\n",
       "\n",
       "    .dataframe thead th {\n",
       "        text-align: right;\n",
       "    }\n",
       "</style>\n",
       "<table border=\"1\" class=\"dataframe\">\n",
       "  <thead>\n",
       "    <tr style=\"text-align: right;\">\n",
       "      <th></th>\n",
       "      <th>id</th>\n",
       "      <th>created_at</th>\n",
       "      <th>first_name</th>\n",
       "      <th>last_name</th>\n",
       "      <th>email</th>\n",
       "      <th>cell_phone</th>\n",
       "      <th>country</th>\n",
       "      <th>state</th>\n",
       "      <th>street</th>\n",
       "      <th>number</th>\n",
       "      <th>additionals</th>\n",
       "    </tr>\n",
       "  </thead>\n",
       "  <tbody>\n",
       "    <tr>\n",
       "      <th>count</th>\n",
       "      <td>100</td>\n",
       "      <td>100</td>\n",
       "      <td>100</td>\n",
       "      <td>100</td>\n",
       "      <td>100</td>\n",
       "      <td>100</td>\n",
       "      <td>100</td>\n",
       "      <td>100</td>\n",
       "      <td>100</td>\n",
       "      <td>100</td>\n",
       "      <td>100</td>\n",
       "    </tr>\n",
       "    <tr>\n",
       "      <th>unique</th>\n",
       "      <td>100</td>\n",
       "      <td>100</td>\n",
       "      <td>47</td>\n",
       "      <td>47</td>\n",
       "      <td>71</td>\n",
       "      <td>100</td>\n",
       "      <td>1</td>\n",
       "      <td>26</td>\n",
       "      <td>86</td>\n",
       "      <td>81</td>\n",
       "      <td>37</td>\n",
       "    </tr>\n",
       "    <tr>\n",
       "      <th>top</th>\n",
       "      <td>0</td>\n",
       "      <td>2017-11-01 14:45:41</td>\n",
       "      <td>Daniela</td>\n",
       "      <td>Pires</td>\n",
       "      <td></td>\n",
       "      <td>9 9102-7834</td>\n",
       "      <td>Brasil</td>\n",
       "      <td>Pernambuco</td>\n",
       "      <td></td>\n",
       "      <td></td>\n",
       "      <td></td>\n",
       "    </tr>\n",
       "    <tr>\n",
       "      <th>freq</th>\n",
       "      <td>1</td>\n",
       "      <td>1</td>\n",
       "      <td>6</td>\n",
       "      <td>5</td>\n",
       "      <td>15</td>\n",
       "      <td>1</td>\n",
       "      <td>100</td>\n",
       "      <td>8</td>\n",
       "      <td>15</td>\n",
       "      <td>15</td>\n",
       "      <td>34</td>\n",
       "    </tr>\n",
       "  </tbody>\n",
       "</table>\n",
       "</div>"
      ],
      "text/plain": [
       "         id           created_at first_name last_name email   cell_phone  \\\n",
       "count   100                  100        100       100   100          100   \n",
       "unique  100                  100         47        47    71          100   \n",
       "top       0  2017-11-01 14:45:41    Daniela     Pires        9 9102-7834   \n",
       "freq      1                    1          6         5    15            1   \n",
       "\n",
       "       country       state street number additionals  \n",
       "count      100         100    100    100         100  \n",
       "unique       1          26     86     81          37  \n",
       "top     Brasil  Pernambuco                            \n",
       "freq       100           8     15     15          34  "
      ]
     },
     "execution_count": 9,
     "metadata": {},
     "output_type": "execute_result"
    }
   ],
   "source": [
    "df.describe()"
   ]
  },
  {
   "cell_type": "code",
   "execution_count": 10,
   "metadata": {
    "vscode": {
     "languageId": "ruby"
    }
   },
   "outputs": [
    {
     "name": "stdout",
     "output_type": "stream",
     "text": [
      "<class 'pandas.core.frame.DataFrame'>\n",
      "RangeIndex: 100 entries, 0 to 99\n",
      "Data columns (total 11 columns):\n",
      " #   Column       Non-Null Count  Dtype \n",
      "---  ------       --------------  ----- \n",
      " 0   id           100 non-null    object\n",
      " 1   created_at   100 non-null    object\n",
      " 2   first_name   100 non-null    object\n",
      " 3   last_name    100 non-null    object\n",
      " 4   email        100 non-null    object\n",
      " 5   cell_phone   100 non-null    object\n",
      " 6   country      100 non-null    object\n",
      " 7   state        100 non-null    object\n",
      " 8   street       100 non-null    object\n",
      " 9   number       100 non-null    object\n",
      " 10  additionals  100 non-null    object\n",
      "dtypes: object(11)\n",
      "memory usage: 8.7+ KB\n"
     ]
    }
   ],
   "source": [
    "df.info()"
   ]
  },
  {
   "cell_type": "code",
   "execution_count": 11,
   "metadata": {
    "vscode": {
     "languageId": "ruby"
    }
   },
   "outputs": [
    {
     "name": "stdout",
     "output_type": "stream",
     "text": [
      "Index(['id', 'created_at', 'first_name', 'last_name', 'email', 'cell_phone',\n",
      "       'country', 'state', 'street', 'number', 'additionals'],\n",
      "      dtype='object')\n"
     ]
    }
   ],
   "source": [
    "print(df.columns)"
   ]
  },
  {
   "cell_type": "code",
   "execution_count": 13,
   "metadata": {
    "vscode": {
     "languageId": "ruby"
    }
   },
   "outputs": [
    {
     "data": {
      "text/plain": [
       "id             100\n",
       "created_at     100\n",
       "first_name     100\n",
       "last_name      100\n",
       "email          100\n",
       "cell_phone     100\n",
       "country        100\n",
       "state          100\n",
       "street         100\n",
       "number         100\n",
       "additionals    100\n",
       "dtype: int64"
      ]
     },
     "execution_count": 13,
     "metadata": {},
     "output_type": "execute_result"
    }
   ],
   "source": [
    "df.count()"
   ]
  },
  {
   "cell_type": "code",
   "execution_count": 15,
   "metadata": {
    "vscode": {
     "languageId": "ruby"
    }
   },
   "outputs": [
    {
     "data": {
      "text/html": [
       "<div>\n",
       "<style scoped>\n",
       "    .dataframe tbody tr th:only-of-type {\n",
       "        vertical-align: middle;\n",
       "    }\n",
       "\n",
       "    .dataframe tbody tr th {\n",
       "        vertical-align: top;\n",
       "    }\n",
       "\n",
       "    .dataframe thead th {\n",
       "        text-align: right;\n",
       "    }\n",
       "</style>\n",
       "<table border=\"1\" class=\"dataframe\">\n",
       "  <thead>\n",
       "    <tr style=\"text-align: right;\">\n",
       "      <th></th>\n",
       "      <th>id</th>\n",
       "      <th>created_at</th>\n",
       "      <th>first_name</th>\n",
       "      <th>last_name</th>\n",
       "      <th>email</th>\n",
       "      <th>cell_phone</th>\n",
       "      <th>country</th>\n",
       "      <th>state</th>\n",
       "      <th>street</th>\n",
       "      <th>number</th>\n",
       "      <th>additionals</th>\n",
       "    </tr>\n",
       "  </thead>\n",
       "  <tbody>\n",
       "    <tr>\n",
       "      <th>0</th>\n",
       "      <td>0</td>\n",
       "      <td>2017-11-01 14:45:41</td>\n",
       "      <td>Marta</td>\n",
       "      <td>Jesus</td>\n",
       "      <td></td>\n",
       "      <td>9 9102-7834</td>\n",
       "      <td>Brasil</td>\n",
       "      <td>Acre</td>\n",
       "      <td></td>\n",
       "      <td></td>\n",
       "      <td>Conjunto 16</td>\n",
       "    </tr>\n",
       "    <tr>\n",
       "      <th>1</th>\n",
       "      <td>1</td>\n",
       "      <td>2017-10-16 00:50:39</td>\n",
       "      <td>Luana</td>\n",
       "      <td>Almeida</td>\n",
       "      <td></td>\n",
       "      <td>9 7328-8718</td>\n",
       "      <td>Brasil</td>\n",
       "      <td>Rio Grande do Sul</td>\n",
       "      <td>Avenida 56 do Estado Rio Grande do Sul</td>\n",
       "      <td>989.0</td>\n",
       "      <td>Conjunto 17</td>\n",
       "    </tr>\n",
       "    <tr>\n",
       "      <th>2</th>\n",
       "      <td>2</td>\n",
       "      <td>2018-06-16 17:51:29</td>\n",
       "      <td>Frida</td>\n",
       "      <td>Mendes</td>\n",
       "      <td>frida@meu_email.com</td>\n",
       "      <td>9 5906-7552</td>\n",
       "      <td>Brasil</td>\n",
       "      <td>SÃ£o Paulo</td>\n",
       "      <td>Avenida 59 do Estado SÃ£o Paulo</td>\n",
       "      <td>534.0</td>\n",
       "      <td></td>\n",
       "    </tr>\n",
       "    <tr>\n",
       "      <th>3</th>\n",
       "      <td>3</td>\n",
       "      <td>2018-01-17 03:02:58</td>\n",
       "      <td>Daniela</td>\n",
       "      <td>Avelino</td>\n",
       "      <td>daniela@exemplo.com</td>\n",
       "      <td>9 4642-9486</td>\n",
       "      <td>Brasil</td>\n",
       "      <td>Mato Grosso</td>\n",
       "      <td></td>\n",
       "      <td></td>\n",
       "      <td></td>\n",
       "    </tr>\n",
       "    <tr>\n",
       "      <th>4</th>\n",
       "      <td>4</td>\n",
       "      <td>2018-08-06 07:24:16</td>\n",
       "      <td>RomÃ¡rio</td>\n",
       "      <td>Teixeira</td>\n",
       "      <td></td>\n",
       "      <td>9 3093-6522</td>\n",
       "      <td>Brasil</td>\n",
       "      <td>Bahia</td>\n",
       "      <td>PraÃ§a 56 do Estado Bahia</td>\n",
       "      <td>191.0</td>\n",
       "      <td>Apto 12</td>\n",
       "    </tr>\n",
       "    <tr>\n",
       "      <th>5</th>\n",
       "      <td>5</td>\n",
       "      <td>2018-01-05 17:20:49</td>\n",
       "      <td>Marcelo</td>\n",
       "      <td>Barroso</td>\n",
       "      <td></td>\n",
       "      <td>9 2830-2088</td>\n",
       "      <td>Brasil</td>\n",
       "      <td>Rio Grande do Sul</td>\n",
       "      <td>Rua 28 do Estado Rio Grande do Sul</td>\n",
       "      <td>805.0</td>\n",
       "      <td>Conjunto 13</td>\n",
       "    </tr>\n",
       "    <tr>\n",
       "      <th>6</th>\n",
       "      <td>6</td>\n",
       "      <td>2018-06-18 11:17:42</td>\n",
       "      <td>Cristiano</td>\n",
       "      <td>ElÃ­sio</td>\n",
       "      <td>cristiano@exemplo.com</td>\n",
       "      <td>9 3532-8404</td>\n",
       "      <td>Brasil</td>\n",
       "      <td>GoiÃ¡s</td>\n",
       "      <td>Rua 78 do Estado GoiÃ¡s</td>\n",
       "      <td>877.0</td>\n",
       "      <td>Apto 14</td>\n",
       "    </tr>\n",
       "    <tr>\n",
       "      <th>7</th>\n",
       "      <td>7</td>\n",
       "      <td>2018-02-08 12:36:09</td>\n",
       "      <td>Everton</td>\n",
       "      <td>Barbosa</td>\n",
       "      <td>everton@meu_email.com</td>\n",
       "      <td>9 2553-4087</td>\n",
       "      <td>Brasil</td>\n",
       "      <td>Distrito Federal</td>\n",
       "      <td>Avenida 86 do Estado Distrito Federal</td>\n",
       "      <td>864.0</td>\n",
       "      <td>Apto 14</td>\n",
       "    </tr>\n",
       "    <tr>\n",
       "      <th>8</th>\n",
       "      <td>8</td>\n",
       "      <td>2017-12-16 20:47:03</td>\n",
       "      <td>Gabriela</td>\n",
       "      <td>Alves</td>\n",
       "      <td>gabriela@exemplo.com</td>\n",
       "      <td>9 1353-8433</td>\n",
       "      <td>Brasil</td>\n",
       "      <td>Santa Catarina</td>\n",
       "      <td></td>\n",
       "      <td></td>\n",
       "      <td></td>\n",
       "    </tr>\n",
       "    <tr>\n",
       "      <th>9</th>\n",
       "      <td>9</td>\n",
       "      <td>2018-11-11 11:48:41</td>\n",
       "      <td>Luan</td>\n",
       "      <td>Dias</td>\n",
       "      <td>luan@exemplo.com</td>\n",
       "      <td>9 2417-3678</td>\n",
       "      <td>Brasil</td>\n",
       "      <td>Distrito Federal</td>\n",
       "      <td>Avenida 54 do Estado Distrito Federal</td>\n",
       "      <td>889.0</td>\n",
       "      <td>Conjunto 14</td>\n",
       "    </tr>\n",
       "  </tbody>\n",
       "</table>\n",
       "</div>"
      ],
      "text/plain": [
       "  id           created_at first_name last_name                  email  \\\n",
       "0  0  2017-11-01 14:45:41      Marta     Jesus                          \n",
       "1  1  2017-10-16 00:50:39      Luana   Almeida                          \n",
       "2  2  2018-06-16 17:51:29      Frida    Mendes    frida@meu_email.com   \n",
       "3  3  2018-01-17 03:02:58    Daniela   Avelino    daniela@exemplo.com   \n",
       "4  4  2018-08-06 07:24:16   RomÃ¡rio  Teixeira                          \n",
       "5  5  2018-01-05 17:20:49    Marcelo   Barroso                          \n",
       "6  6  2018-06-18 11:17:42  Cristiano   ElÃ­sio  cristiano@exemplo.com   \n",
       "7  7  2018-02-08 12:36:09    Everton   Barbosa  everton@meu_email.com   \n",
       "8  8  2017-12-16 20:47:03   Gabriela     Alves   gabriela@exemplo.com   \n",
       "9  9  2018-11-11 11:48:41       Luan      Dias       luan@exemplo.com   \n",
       "\n",
       "    cell_phone country              state  \\\n",
       "0  9 9102-7834  Brasil               Acre   \n",
       "1  9 7328-8718  Brasil  Rio Grande do Sul   \n",
       "2  9 5906-7552  Brasil         SÃ£o Paulo   \n",
       "3  9 4642-9486  Brasil        Mato Grosso   \n",
       "4  9 3093-6522  Brasil              Bahia   \n",
       "5  9 2830-2088  Brasil  Rio Grande do Sul   \n",
       "6  9 3532-8404  Brasil             GoiÃ¡s   \n",
       "7  9 2553-4087  Brasil   Distrito Federal   \n",
       "8  9 1353-8433  Brasil     Santa Catarina   \n",
       "9  9 2417-3678  Brasil   Distrito Federal   \n",
       "\n",
       "                                   street number  additionals  \n",
       "0                                                 Conjunto 16  \n",
       "1  Avenida 56 do Estado Rio Grande do Sul  989.0  Conjunto 17  \n",
       "2         Avenida 59 do Estado SÃ£o Paulo  534.0               \n",
       "3                                                              \n",
       "4               PraÃ§a 56 do Estado Bahia  191.0      Apto 12  \n",
       "5      Rua 28 do Estado Rio Grande do Sul  805.0  Conjunto 13  \n",
       "6                 Rua 78 do Estado GoiÃ¡s  877.0      Apto 14  \n",
       "7   Avenida 86 do Estado Distrito Federal  864.0      Apto 14  \n",
       "8                                                              \n",
       "9   Avenida 54 do Estado Distrito Federal  889.0  Conjunto 14  "
      ]
     },
     "execution_count": 15,
     "metadata": {},
     "output_type": "execute_result"
    }
   ],
   "source": [
    "df.head(10)"
   ]
  },
  {
   "cell_type": "code",
   "execution_count": 16,
   "metadata": {
    "vscode": {
     "languageId": "ruby"
    }
   },
   "outputs": [
    {
     "data": {
      "text/plain": [
       "(100, 11)"
      ]
     },
     "execution_count": 16,
     "metadata": {},
     "output_type": "execute_result"
    }
   ],
   "source": [
    "df.shape"
   ]
  },
  {
   "cell_type": "code",
   "execution_count": 17,
   "metadata": {
    "vscode": {
     "languageId": "ruby"
    }
   },
   "outputs": [],
   "source": [
    "# Dicionário de renomeação (coluna_atual -> novo_nome)\n",
    "rename_dict = {\n",
    "    \"created_at\": \"criadoEm\",\n",
    "    \"first_name\": \"nome\",\n",
    "    \"last_name\": \"sobremone\",\n",
    "    \"cell_phone\": \"celular\",\n",
    "    \"country\": \"Pais\",\n",
    "    \"email\": \"email\",\n",
    "    \"address\": \"endereco\",\n",
    "    \"city\": \"cidade\",\n",
    "    \"state\": \"estado\",\n",
    "    \"zip_code\": \"cep\",\n",
    "    \"status\": \"status\",\n",
    "    \n",
    "}"
   ]
  },
  {
   "cell_type": "code",
   "execution_count": 19,
   "metadata": {
    "vscode": {
     "languageId": "ruby"
    }
   },
   "outputs": [],
   "source": [
    "# Aplicando a renomeação usando loop\n",
    "for old_col, new_col in rename_dict.items():\n",
    "    df = df.rename(columns={old_col: new_col})"
   ]
  },
  {
   "cell_type": "code",
   "execution_count": 20,
   "metadata": {
    "vscode": {
     "languageId": "ruby"
    }
   },
   "outputs": [
    {
     "data": {
      "text/html": [
       "<div>\n",
       "<style scoped>\n",
       "    .dataframe tbody tr th:only-of-type {\n",
       "        vertical-align: middle;\n",
       "    }\n",
       "\n",
       "    .dataframe tbody tr th {\n",
       "        vertical-align: top;\n",
       "    }\n",
       "\n",
       "    .dataframe thead th {\n",
       "        text-align: right;\n",
       "    }\n",
       "</style>\n",
       "<table border=\"1\" class=\"dataframe\">\n",
       "  <thead>\n",
       "    <tr style=\"text-align: right;\">\n",
       "      <th></th>\n",
       "      <th>id</th>\n",
       "      <th>criadoEm</th>\n",
       "      <th>nome</th>\n",
       "      <th>sobremone</th>\n",
       "      <th>email</th>\n",
       "      <th>celular</th>\n",
       "      <th>Pais</th>\n",
       "      <th>estado</th>\n",
       "      <th>street</th>\n",
       "      <th>number</th>\n",
       "      <th>additionals</th>\n",
       "    </tr>\n",
       "  </thead>\n",
       "  <tbody>\n",
       "    <tr>\n",
       "      <th>0</th>\n",
       "      <td>0</td>\n",
       "      <td>2017-11-01 14:45:41</td>\n",
       "      <td>Marta</td>\n",
       "      <td>Jesus</td>\n",
       "      <td></td>\n",
       "      <td>9 9102-7834</td>\n",
       "      <td>Brasil</td>\n",
       "      <td>Acre</td>\n",
       "      <td></td>\n",
       "      <td></td>\n",
       "      <td>Conjunto 16</td>\n",
       "    </tr>\n",
       "    <tr>\n",
       "      <th>1</th>\n",
       "      <td>1</td>\n",
       "      <td>2017-10-16 00:50:39</td>\n",
       "      <td>Luana</td>\n",
       "      <td>Almeida</td>\n",
       "      <td></td>\n",
       "      <td>9 7328-8718</td>\n",
       "      <td>Brasil</td>\n",
       "      <td>Rio Grande do Sul</td>\n",
       "      <td>Avenida 56 do Estado Rio Grande do Sul</td>\n",
       "      <td>989.0</td>\n",
       "      <td>Conjunto 17</td>\n",
       "    </tr>\n",
       "    <tr>\n",
       "      <th>2</th>\n",
       "      <td>2</td>\n",
       "      <td>2018-06-16 17:51:29</td>\n",
       "      <td>Frida</td>\n",
       "      <td>Mendes</td>\n",
       "      <td>frida@meu_email.com</td>\n",
       "      <td>9 5906-7552</td>\n",
       "      <td>Brasil</td>\n",
       "      <td>SÃ£o Paulo</td>\n",
       "      <td>Avenida 59 do Estado SÃ£o Paulo</td>\n",
       "      <td>534.0</td>\n",
       "      <td></td>\n",
       "    </tr>\n",
       "    <tr>\n",
       "      <th>3</th>\n",
       "      <td>3</td>\n",
       "      <td>2018-01-17 03:02:58</td>\n",
       "      <td>Daniela</td>\n",
       "      <td>Avelino</td>\n",
       "      <td>daniela@exemplo.com</td>\n",
       "      <td>9 4642-9486</td>\n",
       "      <td>Brasil</td>\n",
       "      <td>Mato Grosso</td>\n",
       "      <td></td>\n",
       "      <td></td>\n",
       "      <td></td>\n",
       "    </tr>\n",
       "    <tr>\n",
       "      <th>4</th>\n",
       "      <td>4</td>\n",
       "      <td>2018-08-06 07:24:16</td>\n",
       "      <td>RomÃ¡rio</td>\n",
       "      <td>Teixeira</td>\n",
       "      <td></td>\n",
       "      <td>9 3093-6522</td>\n",
       "      <td>Brasil</td>\n",
       "      <td>Bahia</td>\n",
       "      <td>PraÃ§a 56 do Estado Bahia</td>\n",
       "      <td>191.0</td>\n",
       "      <td>Apto 12</td>\n",
       "    </tr>\n",
       "    <tr>\n",
       "      <th>5</th>\n",
       "      <td>5</td>\n",
       "      <td>2018-01-05 17:20:49</td>\n",
       "      <td>Marcelo</td>\n",
       "      <td>Barroso</td>\n",
       "      <td></td>\n",
       "      <td>9 2830-2088</td>\n",
       "      <td>Brasil</td>\n",
       "      <td>Rio Grande do Sul</td>\n",
       "      <td>Rua 28 do Estado Rio Grande do Sul</td>\n",
       "      <td>805.0</td>\n",
       "      <td>Conjunto 13</td>\n",
       "    </tr>\n",
       "    <tr>\n",
       "      <th>6</th>\n",
       "      <td>6</td>\n",
       "      <td>2018-06-18 11:17:42</td>\n",
       "      <td>Cristiano</td>\n",
       "      <td>ElÃ­sio</td>\n",
       "      <td>cristiano@exemplo.com</td>\n",
       "      <td>9 3532-8404</td>\n",
       "      <td>Brasil</td>\n",
       "      <td>GoiÃ¡s</td>\n",
       "      <td>Rua 78 do Estado GoiÃ¡s</td>\n",
       "      <td>877.0</td>\n",
       "      <td>Apto 14</td>\n",
       "    </tr>\n",
       "    <tr>\n",
       "      <th>7</th>\n",
       "      <td>7</td>\n",
       "      <td>2018-02-08 12:36:09</td>\n",
       "      <td>Everton</td>\n",
       "      <td>Barbosa</td>\n",
       "      <td>everton@meu_email.com</td>\n",
       "      <td>9 2553-4087</td>\n",
       "      <td>Brasil</td>\n",
       "      <td>Distrito Federal</td>\n",
       "      <td>Avenida 86 do Estado Distrito Federal</td>\n",
       "      <td>864.0</td>\n",
       "      <td>Apto 14</td>\n",
       "    </tr>\n",
       "    <tr>\n",
       "      <th>8</th>\n",
       "      <td>8</td>\n",
       "      <td>2017-12-16 20:47:03</td>\n",
       "      <td>Gabriela</td>\n",
       "      <td>Alves</td>\n",
       "      <td>gabriela@exemplo.com</td>\n",
       "      <td>9 1353-8433</td>\n",
       "      <td>Brasil</td>\n",
       "      <td>Santa Catarina</td>\n",
       "      <td></td>\n",
       "      <td></td>\n",
       "      <td></td>\n",
       "    </tr>\n",
       "    <tr>\n",
       "      <th>9</th>\n",
       "      <td>9</td>\n",
       "      <td>2018-11-11 11:48:41</td>\n",
       "      <td>Luan</td>\n",
       "      <td>Dias</td>\n",
       "      <td>luan@exemplo.com</td>\n",
       "      <td>9 2417-3678</td>\n",
       "      <td>Brasil</td>\n",
       "      <td>Distrito Federal</td>\n",
       "      <td>Avenida 54 do Estado Distrito Federal</td>\n",
       "      <td>889.0</td>\n",
       "      <td>Conjunto 14</td>\n",
       "    </tr>\n",
       "  </tbody>\n",
       "</table>\n",
       "</div>"
      ],
      "text/plain": [
       "  id             criadoEm       nome sobremone                  email  \\\n",
       "0  0  2017-11-01 14:45:41      Marta     Jesus                          \n",
       "1  1  2017-10-16 00:50:39      Luana   Almeida                          \n",
       "2  2  2018-06-16 17:51:29      Frida    Mendes    frida@meu_email.com   \n",
       "3  3  2018-01-17 03:02:58    Daniela   Avelino    daniela@exemplo.com   \n",
       "4  4  2018-08-06 07:24:16   RomÃ¡rio  Teixeira                          \n",
       "5  5  2018-01-05 17:20:49    Marcelo   Barroso                          \n",
       "6  6  2018-06-18 11:17:42  Cristiano   ElÃ­sio  cristiano@exemplo.com   \n",
       "7  7  2018-02-08 12:36:09    Everton   Barbosa  everton@meu_email.com   \n",
       "8  8  2017-12-16 20:47:03   Gabriela     Alves   gabriela@exemplo.com   \n",
       "9  9  2018-11-11 11:48:41       Luan      Dias       luan@exemplo.com   \n",
       "\n",
       "       celular    Pais             estado  \\\n",
       "0  9 9102-7834  Brasil               Acre   \n",
       "1  9 7328-8718  Brasil  Rio Grande do Sul   \n",
       "2  9 5906-7552  Brasil         SÃ£o Paulo   \n",
       "3  9 4642-9486  Brasil        Mato Grosso   \n",
       "4  9 3093-6522  Brasil              Bahia   \n",
       "5  9 2830-2088  Brasil  Rio Grande do Sul   \n",
       "6  9 3532-8404  Brasil             GoiÃ¡s   \n",
       "7  9 2553-4087  Brasil   Distrito Federal   \n",
       "8  9 1353-8433  Brasil     Santa Catarina   \n",
       "9  9 2417-3678  Brasil   Distrito Federal   \n",
       "\n",
       "                                   street number  additionals  \n",
       "0                                                 Conjunto 16  \n",
       "1  Avenida 56 do Estado Rio Grande do Sul  989.0  Conjunto 17  \n",
       "2         Avenida 59 do Estado SÃ£o Paulo  534.0               \n",
       "3                                                              \n",
       "4               PraÃ§a 56 do Estado Bahia  191.0      Apto 12  \n",
       "5      Rua 28 do Estado Rio Grande do Sul  805.0  Conjunto 13  \n",
       "6                 Rua 78 do Estado GoiÃ¡s  877.0      Apto 14  \n",
       "7   Avenida 86 do Estado Distrito Federal  864.0      Apto 14  \n",
       "8                                                              \n",
       "9   Avenida 54 do Estado Distrito Federal  889.0  Conjunto 14  "
      ]
     },
     "execution_count": 20,
     "metadata": {},
     "output_type": "execute_result"
    }
   ],
   "source": [
    "df.head(10)"
   ]
  },
  {
   "cell_type": "markdown",
   "metadata": {},
   "source": [
    "### Removendo acentos "
   ]
  },
  {
   "cell_type": "code",
   "execution_count": 21,
   "metadata": {
    "vscode": {
     "languageId": "ruby"
    }
   },
   "outputs": [],
   "source": [
    "from unidecode import unidecode\n",
    "# Removendo acentos das colunas\n",
    "df.columns = [unidecode(col) for col in df.columns]"
   ]
  },
  {
   "cell_type": "code",
   "execution_count": 22,
   "metadata": {
    "vscode": {
     "languageId": "ruby"
    }
   },
   "outputs": [
    {
     "data": {
      "text/html": [
       "<div>\n",
       "<style scoped>\n",
       "    .dataframe tbody tr th:only-of-type {\n",
       "        vertical-align: middle;\n",
       "    }\n",
       "\n",
       "    .dataframe tbody tr th {\n",
       "        vertical-align: top;\n",
       "    }\n",
       "\n",
       "    .dataframe thead th {\n",
       "        text-align: right;\n",
       "    }\n",
       "</style>\n",
       "<table border=\"1\" class=\"dataframe\">\n",
       "  <thead>\n",
       "    <tr style=\"text-align: right;\">\n",
       "      <th></th>\n",
       "      <th>id</th>\n",
       "      <th>criadoEm</th>\n",
       "      <th>nome</th>\n",
       "      <th>sobremone</th>\n",
       "      <th>email</th>\n",
       "      <th>celular</th>\n",
       "      <th>Pais</th>\n",
       "      <th>estado</th>\n",
       "      <th>street</th>\n",
       "      <th>number</th>\n",
       "      <th>additionals</th>\n",
       "    </tr>\n",
       "  </thead>\n",
       "  <tbody>\n",
       "    <tr>\n",
       "      <th>0</th>\n",
       "      <td>0</td>\n",
       "      <td>2017-11-01 14:45:41</td>\n",
       "      <td>Marta</td>\n",
       "      <td>Jesus</td>\n",
       "      <td></td>\n",
       "      <td>9 9102-7834</td>\n",
       "      <td>Brasil</td>\n",
       "      <td>Acre</td>\n",
       "      <td></td>\n",
       "      <td></td>\n",
       "      <td>Conjunto 16</td>\n",
       "    </tr>\n",
       "    <tr>\n",
       "      <th>1</th>\n",
       "      <td>1</td>\n",
       "      <td>2017-10-16 00:50:39</td>\n",
       "      <td>Luana</td>\n",
       "      <td>Almeida</td>\n",
       "      <td></td>\n",
       "      <td>9 7328-8718</td>\n",
       "      <td>Brasil</td>\n",
       "      <td>Rio Grande do Sul</td>\n",
       "      <td>Avenida 56 do Estado Rio Grande do Sul</td>\n",
       "      <td>989.0</td>\n",
       "      <td>Conjunto 17</td>\n",
       "    </tr>\n",
       "    <tr>\n",
       "      <th>2</th>\n",
       "      <td>2</td>\n",
       "      <td>2018-06-16 17:51:29</td>\n",
       "      <td>Frida</td>\n",
       "      <td>Mendes</td>\n",
       "      <td>frida@meu_email.com</td>\n",
       "      <td>9 5906-7552</td>\n",
       "      <td>Brasil</td>\n",
       "      <td>SÃ£o Paulo</td>\n",
       "      <td>Avenida 59 do Estado SÃ£o Paulo</td>\n",
       "      <td>534.0</td>\n",
       "      <td></td>\n",
       "    </tr>\n",
       "    <tr>\n",
       "      <th>3</th>\n",
       "      <td>3</td>\n",
       "      <td>2018-01-17 03:02:58</td>\n",
       "      <td>Daniela</td>\n",
       "      <td>Avelino</td>\n",
       "      <td>daniela@exemplo.com</td>\n",
       "      <td>9 4642-9486</td>\n",
       "      <td>Brasil</td>\n",
       "      <td>Mato Grosso</td>\n",
       "      <td></td>\n",
       "      <td></td>\n",
       "      <td></td>\n",
       "    </tr>\n",
       "    <tr>\n",
       "      <th>4</th>\n",
       "      <td>4</td>\n",
       "      <td>2018-08-06 07:24:16</td>\n",
       "      <td>RomÃ¡rio</td>\n",
       "      <td>Teixeira</td>\n",
       "      <td></td>\n",
       "      <td>9 3093-6522</td>\n",
       "      <td>Brasil</td>\n",
       "      <td>Bahia</td>\n",
       "      <td>PraÃ§a 56 do Estado Bahia</td>\n",
       "      <td>191.0</td>\n",
       "      <td>Apto 12</td>\n",
       "    </tr>\n",
       "    <tr>\n",
       "      <th>5</th>\n",
       "      <td>5</td>\n",
       "      <td>2018-01-05 17:20:49</td>\n",
       "      <td>Marcelo</td>\n",
       "      <td>Barroso</td>\n",
       "      <td></td>\n",
       "      <td>9 2830-2088</td>\n",
       "      <td>Brasil</td>\n",
       "      <td>Rio Grande do Sul</td>\n",
       "      <td>Rua 28 do Estado Rio Grande do Sul</td>\n",
       "      <td>805.0</td>\n",
       "      <td>Conjunto 13</td>\n",
       "    </tr>\n",
       "    <tr>\n",
       "      <th>6</th>\n",
       "      <td>6</td>\n",
       "      <td>2018-06-18 11:17:42</td>\n",
       "      <td>Cristiano</td>\n",
       "      <td>ElÃ­sio</td>\n",
       "      <td>cristiano@exemplo.com</td>\n",
       "      <td>9 3532-8404</td>\n",
       "      <td>Brasil</td>\n",
       "      <td>GoiÃ¡s</td>\n",
       "      <td>Rua 78 do Estado GoiÃ¡s</td>\n",
       "      <td>877.0</td>\n",
       "      <td>Apto 14</td>\n",
       "    </tr>\n",
       "    <tr>\n",
       "      <th>7</th>\n",
       "      <td>7</td>\n",
       "      <td>2018-02-08 12:36:09</td>\n",
       "      <td>Everton</td>\n",
       "      <td>Barbosa</td>\n",
       "      <td>everton@meu_email.com</td>\n",
       "      <td>9 2553-4087</td>\n",
       "      <td>Brasil</td>\n",
       "      <td>Distrito Federal</td>\n",
       "      <td>Avenida 86 do Estado Distrito Federal</td>\n",
       "      <td>864.0</td>\n",
       "      <td>Apto 14</td>\n",
       "    </tr>\n",
       "    <tr>\n",
       "      <th>8</th>\n",
       "      <td>8</td>\n",
       "      <td>2017-12-16 20:47:03</td>\n",
       "      <td>Gabriela</td>\n",
       "      <td>Alves</td>\n",
       "      <td>gabriela@exemplo.com</td>\n",
       "      <td>9 1353-8433</td>\n",
       "      <td>Brasil</td>\n",
       "      <td>Santa Catarina</td>\n",
       "      <td></td>\n",
       "      <td></td>\n",
       "      <td></td>\n",
       "    </tr>\n",
       "    <tr>\n",
       "      <th>9</th>\n",
       "      <td>9</td>\n",
       "      <td>2018-11-11 11:48:41</td>\n",
       "      <td>Luan</td>\n",
       "      <td>Dias</td>\n",
       "      <td>luan@exemplo.com</td>\n",
       "      <td>9 2417-3678</td>\n",
       "      <td>Brasil</td>\n",
       "      <td>Distrito Federal</td>\n",
       "      <td>Avenida 54 do Estado Distrito Federal</td>\n",
       "      <td>889.0</td>\n",
       "      <td>Conjunto 14</td>\n",
       "    </tr>\n",
       "  </tbody>\n",
       "</table>\n",
       "</div>"
      ],
      "text/plain": [
       "  id             criadoEm       nome sobremone                  email  \\\n",
       "0  0  2017-11-01 14:45:41      Marta     Jesus                          \n",
       "1  1  2017-10-16 00:50:39      Luana   Almeida                          \n",
       "2  2  2018-06-16 17:51:29      Frida    Mendes    frida@meu_email.com   \n",
       "3  3  2018-01-17 03:02:58    Daniela   Avelino    daniela@exemplo.com   \n",
       "4  4  2018-08-06 07:24:16   RomÃ¡rio  Teixeira                          \n",
       "5  5  2018-01-05 17:20:49    Marcelo   Barroso                          \n",
       "6  6  2018-06-18 11:17:42  Cristiano   ElÃ­sio  cristiano@exemplo.com   \n",
       "7  7  2018-02-08 12:36:09    Everton   Barbosa  everton@meu_email.com   \n",
       "8  8  2017-12-16 20:47:03   Gabriela     Alves   gabriela@exemplo.com   \n",
       "9  9  2018-11-11 11:48:41       Luan      Dias       luan@exemplo.com   \n",
       "\n",
       "       celular    Pais             estado  \\\n",
       "0  9 9102-7834  Brasil               Acre   \n",
       "1  9 7328-8718  Brasil  Rio Grande do Sul   \n",
       "2  9 5906-7552  Brasil         SÃ£o Paulo   \n",
       "3  9 4642-9486  Brasil        Mato Grosso   \n",
       "4  9 3093-6522  Brasil              Bahia   \n",
       "5  9 2830-2088  Brasil  Rio Grande do Sul   \n",
       "6  9 3532-8404  Brasil             GoiÃ¡s   \n",
       "7  9 2553-4087  Brasil   Distrito Federal   \n",
       "8  9 1353-8433  Brasil     Santa Catarina   \n",
       "9  9 2417-3678  Brasil   Distrito Federal   \n",
       "\n",
       "                                   street number  additionals  \n",
       "0                                                 Conjunto 16  \n",
       "1  Avenida 56 do Estado Rio Grande do Sul  989.0  Conjunto 17  \n",
       "2         Avenida 59 do Estado SÃ£o Paulo  534.0               \n",
       "3                                                              \n",
       "4               PraÃ§a 56 do Estado Bahia  191.0      Apto 12  \n",
       "5      Rua 28 do Estado Rio Grande do Sul  805.0  Conjunto 13  \n",
       "6                 Rua 78 do Estado GoiÃ¡s  877.0      Apto 14  \n",
       "7   Avenida 86 do Estado Distrito Federal  864.0      Apto 14  \n",
       "8                                                              \n",
       "9   Avenida 54 do Estado Distrito Federal  889.0  Conjunto 14  "
      ]
     },
     "execution_count": 22,
     "metadata": {},
     "output_type": "execute_result"
    }
   ],
   "source": [
    "df.head(10)"
   ]
  },
  {
   "cell_type": "code",
   "execution_count": 25,
   "metadata": {
    "vscode": {
     "languageId": "ruby"
    }
   },
   "outputs": [],
   "source": [
    "# Função para corrigir encoding somente em colunas de string\n",
    "def fix_encoding(col):\n",
    "    return col.apply(lambda x: x.encode(\"latin1\").decode(\"utf-8\") if isinstance(x, str) else x)\n"
   ]
  },
  {
   "cell_type": "code",
   "execution_count": 26,
   "metadata": {
    "vscode": {
     "languageId": "ruby"
    }
   },
   "outputs": [
    {
     "data": {
      "text/html": [
       "<div>\n",
       "<style scoped>\n",
       "    .dataframe tbody tr th:only-of-type {\n",
       "        vertical-align: middle;\n",
       "    }\n",
       "\n",
       "    .dataframe tbody tr th {\n",
       "        vertical-align: top;\n",
       "    }\n",
       "\n",
       "    .dataframe thead th {\n",
       "        text-align: right;\n",
       "    }\n",
       "</style>\n",
       "<table border=\"1\" class=\"dataframe\">\n",
       "  <thead>\n",
       "    <tr style=\"text-align: right;\">\n",
       "      <th></th>\n",
       "      <th>id</th>\n",
       "      <th>criadoEm</th>\n",
       "      <th>nome</th>\n",
       "      <th>sobremone</th>\n",
       "      <th>email</th>\n",
       "      <th>celular</th>\n",
       "      <th>Pais</th>\n",
       "      <th>estado</th>\n",
       "      <th>street</th>\n",
       "      <th>number</th>\n",
       "      <th>additionals</th>\n",
       "    </tr>\n",
       "  </thead>\n",
       "  <tbody>\n",
       "    <tr>\n",
       "      <th>0</th>\n",
       "      <td>0</td>\n",
       "      <td>2017-11-01 14:45:41</td>\n",
       "      <td>Marta</td>\n",
       "      <td>Jesus</td>\n",
       "      <td></td>\n",
       "      <td>9 9102-7834</td>\n",
       "      <td>Brasil</td>\n",
       "      <td>Acre</td>\n",
       "      <td></td>\n",
       "      <td></td>\n",
       "      <td>Conjunto 16</td>\n",
       "    </tr>\n",
       "    <tr>\n",
       "      <th>1</th>\n",
       "      <td>1</td>\n",
       "      <td>2017-10-16 00:50:39</td>\n",
       "      <td>Luana</td>\n",
       "      <td>Almeida</td>\n",
       "      <td></td>\n",
       "      <td>9 7328-8718</td>\n",
       "      <td>Brasil</td>\n",
       "      <td>Rio Grande do Sul</td>\n",
       "      <td>Avenida 56 do Estado Rio Grande do Sul</td>\n",
       "      <td>989.0</td>\n",
       "      <td>Conjunto 17</td>\n",
       "    </tr>\n",
       "    <tr>\n",
       "      <th>2</th>\n",
       "      <td>2</td>\n",
       "      <td>2018-06-16 17:51:29</td>\n",
       "      <td>Frida</td>\n",
       "      <td>Mendes</td>\n",
       "      <td>frida@meu_email.com</td>\n",
       "      <td>9 5906-7552</td>\n",
       "      <td>Brasil</td>\n",
       "      <td>São Paulo</td>\n",
       "      <td>Avenida 59 do Estado São Paulo</td>\n",
       "      <td>534.0</td>\n",
       "      <td></td>\n",
       "    </tr>\n",
       "    <tr>\n",
       "      <th>3</th>\n",
       "      <td>3</td>\n",
       "      <td>2018-01-17 03:02:58</td>\n",
       "      <td>Daniela</td>\n",
       "      <td>Avelino</td>\n",
       "      <td>daniela@exemplo.com</td>\n",
       "      <td>9 4642-9486</td>\n",
       "      <td>Brasil</td>\n",
       "      <td>Mato Grosso</td>\n",
       "      <td></td>\n",
       "      <td></td>\n",
       "      <td></td>\n",
       "    </tr>\n",
       "    <tr>\n",
       "      <th>4</th>\n",
       "      <td>4</td>\n",
       "      <td>2018-08-06 07:24:16</td>\n",
       "      <td>Romário</td>\n",
       "      <td>Teixeira</td>\n",
       "      <td></td>\n",
       "      <td>9 3093-6522</td>\n",
       "      <td>Brasil</td>\n",
       "      <td>Bahia</td>\n",
       "      <td>Praça 56 do Estado Bahia</td>\n",
       "      <td>191.0</td>\n",
       "      <td>Apto 12</td>\n",
       "    </tr>\n",
       "    <tr>\n",
       "      <th>5</th>\n",
       "      <td>5</td>\n",
       "      <td>2018-01-05 17:20:49</td>\n",
       "      <td>Marcelo</td>\n",
       "      <td>Barroso</td>\n",
       "      <td></td>\n",
       "      <td>9 2830-2088</td>\n",
       "      <td>Brasil</td>\n",
       "      <td>Rio Grande do Sul</td>\n",
       "      <td>Rua 28 do Estado Rio Grande do Sul</td>\n",
       "      <td>805.0</td>\n",
       "      <td>Conjunto 13</td>\n",
       "    </tr>\n",
       "    <tr>\n",
       "      <th>6</th>\n",
       "      <td>6</td>\n",
       "      <td>2018-06-18 11:17:42</td>\n",
       "      <td>Cristiano</td>\n",
       "      <td>Elísio</td>\n",
       "      <td>cristiano@exemplo.com</td>\n",
       "      <td>9 3532-8404</td>\n",
       "      <td>Brasil</td>\n",
       "      <td>Goiás</td>\n",
       "      <td>Rua 78 do Estado Goiás</td>\n",
       "      <td>877.0</td>\n",
       "      <td>Apto 14</td>\n",
       "    </tr>\n",
       "    <tr>\n",
       "      <th>7</th>\n",
       "      <td>7</td>\n",
       "      <td>2018-02-08 12:36:09</td>\n",
       "      <td>Everton</td>\n",
       "      <td>Barbosa</td>\n",
       "      <td>everton@meu_email.com</td>\n",
       "      <td>9 2553-4087</td>\n",
       "      <td>Brasil</td>\n",
       "      <td>Distrito Federal</td>\n",
       "      <td>Avenida 86 do Estado Distrito Federal</td>\n",
       "      <td>864.0</td>\n",
       "      <td>Apto 14</td>\n",
       "    </tr>\n",
       "    <tr>\n",
       "      <th>8</th>\n",
       "      <td>8</td>\n",
       "      <td>2017-12-16 20:47:03</td>\n",
       "      <td>Gabriela</td>\n",
       "      <td>Alves</td>\n",
       "      <td>gabriela@exemplo.com</td>\n",
       "      <td>9 1353-8433</td>\n",
       "      <td>Brasil</td>\n",
       "      <td>Santa Catarina</td>\n",
       "      <td></td>\n",
       "      <td></td>\n",
       "      <td></td>\n",
       "    </tr>\n",
       "    <tr>\n",
       "      <th>9</th>\n",
       "      <td>9</td>\n",
       "      <td>2018-11-11 11:48:41</td>\n",
       "      <td>Luan</td>\n",
       "      <td>Dias</td>\n",
       "      <td>luan@exemplo.com</td>\n",
       "      <td>9 2417-3678</td>\n",
       "      <td>Brasil</td>\n",
       "      <td>Distrito Federal</td>\n",
       "      <td>Avenida 54 do Estado Distrito Federal</td>\n",
       "      <td>889.0</td>\n",
       "      <td>Conjunto 14</td>\n",
       "    </tr>\n",
       "  </tbody>\n",
       "</table>\n",
       "</div>"
      ],
      "text/plain": [
       "  id             criadoEm       nome sobremone                  email  \\\n",
       "0  0  2017-11-01 14:45:41      Marta     Jesus                          \n",
       "1  1  2017-10-16 00:50:39      Luana   Almeida                          \n",
       "2  2  2018-06-16 17:51:29      Frida    Mendes    frida@meu_email.com   \n",
       "3  3  2018-01-17 03:02:58    Daniela   Avelino    daniela@exemplo.com   \n",
       "4  4  2018-08-06 07:24:16    Romário  Teixeira                          \n",
       "5  5  2018-01-05 17:20:49    Marcelo   Barroso                          \n",
       "6  6  2018-06-18 11:17:42  Cristiano    Elísio  cristiano@exemplo.com   \n",
       "7  7  2018-02-08 12:36:09    Everton   Barbosa  everton@meu_email.com   \n",
       "8  8  2017-12-16 20:47:03   Gabriela     Alves   gabriela@exemplo.com   \n",
       "9  9  2018-11-11 11:48:41       Luan      Dias       luan@exemplo.com   \n",
       "\n",
       "       celular    Pais             estado  \\\n",
       "0  9 9102-7834  Brasil               Acre   \n",
       "1  9 7328-8718  Brasil  Rio Grande do Sul   \n",
       "2  9 5906-7552  Brasil          São Paulo   \n",
       "3  9 4642-9486  Brasil        Mato Grosso   \n",
       "4  9 3093-6522  Brasil              Bahia   \n",
       "5  9 2830-2088  Brasil  Rio Grande do Sul   \n",
       "6  9 3532-8404  Brasil              Goiás   \n",
       "7  9 2553-4087  Brasil   Distrito Federal   \n",
       "8  9 1353-8433  Brasil     Santa Catarina   \n",
       "9  9 2417-3678  Brasil   Distrito Federal   \n",
       "\n",
       "                                   street number  additionals  \n",
       "0                                                 Conjunto 16  \n",
       "1  Avenida 56 do Estado Rio Grande do Sul  989.0  Conjunto 17  \n",
       "2          Avenida 59 do Estado São Paulo  534.0               \n",
       "3                                                              \n",
       "4                Praça 56 do Estado Bahia  191.0      Apto 12  \n",
       "5      Rua 28 do Estado Rio Grande do Sul  805.0  Conjunto 13  \n",
       "6                  Rua 78 do Estado Goiás  877.0      Apto 14  \n",
       "7   Avenida 86 do Estado Distrito Federal  864.0      Apto 14  \n",
       "8                                                              \n",
       "9   Avenida 54 do Estado Distrito Federal  889.0  Conjunto 14  "
      ]
     },
     "execution_count": 26,
     "metadata": {},
     "output_type": "execute_result"
    }
   ],
   "source": [
    "df.head(10)"
   ]
  },
  {
   "cell_type": "code",
   "execution_count": 31,
   "metadata": {
    "vscode": {
     "languageId": "ruby"
    }
   },
   "outputs": [
    {
     "data": {
      "text/plain": [
       "id             object\n",
       "criadoEm       object\n",
       "nome           object\n",
       "sobremone      object\n",
       "email          object\n",
       "celular        object\n",
       "Pais           object\n",
       "estado         object\n",
       "street         object\n",
       "number         object\n",
       "additionals    object\n",
       "dtype: object"
      ]
     },
     "execution_count": 31,
     "metadata": {},
     "output_type": "execute_result"
    }
   ],
   "source": [
    "df.dtypes"
   ]
  },
  {
   "cell_type": "markdown",
   "metadata": {},
   "source": [
    "### Listando Colunas\n"
   ]
  },
  {
   "cell_type": "code",
   "execution_count": 34,
   "metadata": {
    "vscode": {
     "languageId": "ruby"
    }
   },
   "outputs": [
    {
     "name": "stdout",
     "output_type": "stream",
     "text": [
      "Index(['id', 'criadoEm', 'nome', 'sobremone', 'email', 'celular', 'Pais',\n",
      "       'estado', 'street', 'number', 'additionals'],\n",
      "      dtype='object')\n"
     ]
    }
   ],
   "source": [
    "print(df.columns)  # Lista todas as colunas do DataFrame\n"
   ]
  },
  {
   "cell_type": "code",
   "execution_count": 36,
   "metadata": {
    "vscode": {
     "languageId": "ruby"
    }
   },
   "outputs": [],
   "source": [
    "# Convertendo para datetime de forma segura\n",
    "df[\"criadoEm\"] = pd.to_datetime(df[\"criadoEm\"], errors=\"coerce\", dayfirst=True)"
   ]
  },
  {
   "cell_type": "markdown",
   "metadata": {},
   "source": [
    "### Classificação das colunas "
   ]
  },
  {
   "cell_type": "code",
   "execution_count": 41,
   "metadata": {
    "vscode": {
     "languageId": "ruby"
    }
   },
   "outputs": [
    {
     "name": "stdout",
     "output_type": "stream",
     "text": [
      "Numerical columns: Index(['criadoEm'], dtype='object')\n",
      "Categorical Columns: Index(['id', 'nome', 'sobremone', 'email', 'celular', 'Pais', 'estado',\n",
      "       'street', 'number', 'additionals'],\n",
      "      dtype='object')\n"
     ]
    }
   ],
   "source": [
    "numerical_columns=df.columns[df.dtypes!='object']\n",
    "categorical_columns=df.columns[df.dtypes=='object']\n",
    "print(\"Numerical columns:\",numerical_columns)\n",
    "print('Categorical Columns:',categorical_columns)"
   ]
  },
  {
   "cell_type": "markdown",
   "metadata": {},
   "source": [
    "### Descrição das colunas"
   ]
  },
  {
   "cell_type": "code",
   "execution_count": 42,
   "metadata": {
    "vscode": {
     "languageId": "ruby"
    }
   },
   "outputs": [
    {
     "data": {
      "text/html": [
       "<div>\n",
       "<style scoped>\n",
       "    .dataframe tbody tr th:only-of-type {\n",
       "        vertical-align: middle;\n",
       "    }\n",
       "\n",
       "    .dataframe tbody tr th {\n",
       "        vertical-align: top;\n",
       "    }\n",
       "\n",
       "    .dataframe thead th {\n",
       "        text-align: right;\n",
       "    }\n",
       "</style>\n",
       "<table border=\"1\" class=\"dataframe\">\n",
       "  <thead>\n",
       "    <tr style=\"text-align: right;\">\n",
       "      <th></th>\n",
       "      <th>id</th>\n",
       "      <th>nome</th>\n",
       "      <th>sobremone</th>\n",
       "      <th>email</th>\n",
       "      <th>celular</th>\n",
       "      <th>Pais</th>\n",
       "      <th>estado</th>\n",
       "      <th>street</th>\n",
       "      <th>number</th>\n",
       "      <th>additionals</th>\n",
       "    </tr>\n",
       "  </thead>\n",
       "  <tbody>\n",
       "    <tr>\n",
       "      <th>count</th>\n",
       "      <td>100</td>\n",
       "      <td>100</td>\n",
       "      <td>100</td>\n",
       "      <td>100</td>\n",
       "      <td>100</td>\n",
       "      <td>100</td>\n",
       "      <td>100</td>\n",
       "      <td>100</td>\n",
       "      <td>100</td>\n",
       "      <td>100</td>\n",
       "    </tr>\n",
       "    <tr>\n",
       "      <th>unique</th>\n",
       "      <td>100</td>\n",
       "      <td>47</td>\n",
       "      <td>47</td>\n",
       "      <td>71</td>\n",
       "      <td>100</td>\n",
       "      <td>1</td>\n",
       "      <td>26</td>\n",
       "      <td>86</td>\n",
       "      <td>81</td>\n",
       "      <td>37</td>\n",
       "    </tr>\n",
       "    <tr>\n",
       "      <th>top</th>\n",
       "      <td>0</td>\n",
       "      <td>Daniela</td>\n",
       "      <td>Pires</td>\n",
       "      <td></td>\n",
       "      <td>9 9102-7834</td>\n",
       "      <td>Brasil</td>\n",
       "      <td>Pernambuco</td>\n",
       "      <td></td>\n",
       "      <td></td>\n",
       "      <td></td>\n",
       "    </tr>\n",
       "    <tr>\n",
       "      <th>freq</th>\n",
       "      <td>1</td>\n",
       "      <td>6</td>\n",
       "      <td>5</td>\n",
       "      <td>15</td>\n",
       "      <td>1</td>\n",
       "      <td>100</td>\n",
       "      <td>8</td>\n",
       "      <td>15</td>\n",
       "      <td>15</td>\n",
       "      <td>34</td>\n",
       "    </tr>\n",
       "  </tbody>\n",
       "</table>\n",
       "</div>"
      ],
      "text/plain": [
       "         id     nome sobremone email      celular    Pais      estado street  \\\n",
       "count   100      100       100   100          100     100         100    100   \n",
       "unique  100       47        47    71          100       1          26     86   \n",
       "top       0  Daniela     Pires        9 9102-7834  Brasil  Pernambuco          \n",
       "freq      1        6         5    15            1     100           8     15   \n",
       "\n",
       "       number additionals  \n",
       "count     100         100  \n",
       "unique     81          37  \n",
       "top                        \n",
       "freq       15          34  "
      ]
     },
     "execution_count": 42,
     "metadata": {},
     "output_type": "execute_result"
    }
   ],
   "source": [
    "df[categorical_columns].describe()"
   ]
  },
  {
   "cell_type": "code",
   "execution_count": null,
   "metadata": {
    "vscode": {
     "languageId": "ruby"
    }
   },
   "outputs": [],
   "source": [
    "df = df.dropna(subset=[\"criadoEm\"])"
   ]
  },
  {
   "cell_type": "code",
   "execution_count": 44,
   "metadata": {
    "vscode": {
     "languageId": "ruby"
    }
   },
   "outputs": [
    {
     "data": {
      "text/plain": [
       "estado\n",
       "Pernambuco             8\n",
       "Rio Grande do Sul      6\n",
       "Bahia                  6\n",
       "Maranhão               6\n",
       "Mato Grosso            5\n",
       "Goiás                  5\n",
       "Rio Grande do Norte    5\n",
       "Ceará                  5\n",
       "Paraná                 4\n",
       "Mato Grosso do Sul     4\n",
       "Espírito Santo         4\n",
       "Minas Gerais           4\n",
       "Acre                   4\n",
       "Rio de Janeiro         4\n",
       "São Paulo              4\n",
       "                       4\n",
       "Piauí                  3\n",
       "Alagoas                3\n",
       "Santa Catarina         3\n",
       "Distrito Federal       3\n",
       "Amapá                  2\n",
       "Amazonas               2\n",
       "Sergipe                2\n",
       "Roraima                2\n",
       "Rondônia               1\n",
       "Pará                   1\n",
       "Name: count, dtype: int64"
      ]
     },
     "execution_count": 44,
     "metadata": {},
     "output_type": "execute_result"
    }
   ],
   "source": [
    "df['estado'].value_counts()"
   ]
  },
  {
   "cell_type": "code",
   "execution_count": 47,
   "metadata": {
    "vscode": {
     "languageId": "ruby"
    }
   },
   "outputs": [
    {
     "name": "stdout",
     "output_type": "stream",
     "text": [
      "Número de linhas na tabela: 100\n",
      "Número de colunas na tabela: 11\n"
     ]
    }
   ],
   "source": [
    "##Observacao :  (sem parênteses) → Retorna o total de elementos no DataFram\n",
    "\n",
    "num_rows = df.shape[0]  # Número de linhas\n",
    "num_cols = df.shape[1]  # Número de colunas\n",
    "\n",
    "print(\"Número de linhas na tabela:\", num_rows)\n",
    "print(\"Número de colunas na tabela:\", num_cols)\n"
   ]
  },
  {
   "cell_type": "code",
   "execution_count": 51,
   "metadata": {
    "vscode": {
     "languageId": "ruby"
    }
   },
   "outputs": [
    {
     "name": "stdout",
     "output_type": "stream",
     "text": [
      "id             0\n",
      "criadoEm       0\n",
      "nome           0\n",
      "sobremone      0\n",
      "email          0\n",
      "celular        0\n",
      "Pais           0\n",
      "estado         0\n",
      "street         0\n",
      "number         0\n",
      "additionals    0\n",
      "dtype: int64\n"
     ]
    }
   ],
   "source": [
    "# Removendo linhas com valores nulos\n",
    "df.dropna(inplace=True)\n",
    "\n",
    "# Verificando se ainda existem valores nulos\n",
    "print(df.isnull().sum())\n"
   ]
  },
  {
   "cell_type": "code",
   "execution_count": 58,
   "metadata": {
    "vscode": {
     "languageId": "ruby"
    }
   },
   "outputs": [
    {
     "data": {
      "image/png": "[encoded data removed]",
      "text/plain": [
       "<Figure size 800x600 with 1 Axes>"
      ]
     },
     "metadata": {},
     "output_type": "display_data"
    }
   ],
   "source": [
    "import matplotlib.pyplot as plt\n",
    "import seaborn as sns\n",
    "\n",
    "# Criando a paleta de cores pastel\n",
    "colors = sns.color_palette(\"pastel\")[0:3]\n",
    "\n",
    "# Contagem dos clientes por estado\n",
    "estado_counts = df[\"estado\"].value_counts()\n",
    "\n",
    "# Criando o gráfico de barras\n",
    "plt.figure(figsize=(8, 6))\n",
    "bars = estado_counts.plot(kind=\"bar\", color=colors)\n",
    "\n",
    "# Adicionando os números acima das barras\n",
    "for bar in bars.patches:\n",
    "    plt.text(\n",
    "        bar.get_x() + bar.get_width() / 2,  # Posição no eixo X\n",
    "        bar.get_height(),  # Posição no eixo Y\n",
    "        f\"{int(bar.get_height())}\",  # Texto (contagem)\n",
    "        ha=\"center\",  # Alinhamento horizontal\n",
    "        va=\"bottom\",  # Alinhamento vertical\n",
    "        fontsize=9,  # Tamanho da fonte\n",
    "        fontweight=\"bold\"\n",
    "    )\n",
    "\n",
    "# Título e exibição do gráfico\n",
    "plt.title(\"Clientes por Estado\")\n",
    "plt.xlabel(\"Estado\")\n",
    "plt.ylabel(\"Quantidade\")\n",
    "plt.xticks(rotation=80)  # Rotaciona os rótulos do eixo X para melhor visualização\n",
    "plt.show()\n"
   ]
  },
  {
   "cell_type": "code",
   "execution_count": 59,
   "metadata": {
    "vscode": {
     "languageId": "ruby"
    }
   },
   "outputs": [
    {
     "data": {
      "image/png": "[encoded data removed]",
      "text/plain": [
       "<Figure size 800x600 with 1 Axes>"
      ]
     },
     "metadata": {},
     "output_type": "display_data"
    }
   ],
   "source": [
    "import matplotlib.pyplot as plt\n",
    "import seaborn as sns\n",
    "\n",
    "# Criando a paleta de cores pastel\n",
    "colors = sns.color_palette(\"pastel\")\n",
    "\n",
    "# Contagem dos clientes por estado\n",
    "estado_counts = df[\"estado\"].value_counts()\n",
    "\n",
    "# Criando o gráfico de barras horizontal\n",
    "plt.figure(figsize=(8, 6))\n",
    "bars = estado_counts.plot(kind=\"barh\", color=colors)\n",
    "\n",
    "# Adicionando os números ao lado das barras\n",
    "for bar in bars.patches:\n",
    "    plt.text(\n",
    "        bar.get_width(),  # Posição X (largura da barra)\n",
    "        bar.get_y() + bar.get_height() / 2,  # Posição Y (meio da barra)\n",
    "        f\"{int(bar.get_width())}\",  # Texto com contagem\n",
    "        ha=\"left\",  # Alinhamento à esquerda\n",
    "        va=\"center\",  # Alinhamento vertical centralizado\n",
    "        fontsize=12,\n",
    "        fontweight=\"bold\"\n",
    "    )\n",
    "\n",
    "# Configuração do gráfico\n",
    "plt.title(\"Clientes por Estado\")\n",
    "plt.xlabel(\"Quantidade\")\n",
    "plt.ylabel(\"Estado\")\n",
    "plt.show()\n"
   ]
  }
 ],
 "metadata": {
  "kernelspec": {
   "display_name": "base",
   "language": "python",
   "name": "python3"
  },
  "language_info": {
   "codemirror_mode": {
    "name": "ipython",
    "version": 3
   },
   "file_extension": ".py",
   "mimetype": "text/x-python",
   "name": "python",
   "nbconvert_exporter": "python",
   "pygments_lexer": "ipython3",
   "version": "3.12.7"
  }
 },
 "nbformat": 4,
 "nbformat_minor": 2
}
